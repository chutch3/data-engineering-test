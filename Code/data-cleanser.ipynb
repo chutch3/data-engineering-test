{
 "cells": [
  {
   "cell_type": "code",
   "execution_count": 1,
   "metadata": {},
   "outputs": [],
   "source": [
    "import pandas as pd\n",
    "import csv"
   ]
  },
  {
   "cell_type": "code",
   "execution_count": 2,
   "metadata": {},
   "outputs": [
    {
     "name": "stdout",
     "output_type": "stream",
     "text": [
      "Reading the file line by line\n",
      "Read all the lines\n"
     ]
    }
   ],
   "source": [
    "### Read the file line by line\n",
    "print('Reading the file line by line')\n",
    "data = []\n",
    "with open('../data/data.tsv','r', encoding='utf-16-le') as f:\n",
    "    for line in f:\n",
    "        data.append(line.split('\\t'))\n",
    "print('Read all the lines')"
   ]
  },
  {
   "cell_type": "code",
   "execution_count": 3,
   "metadata": {},
   "outputs": [
    {
     "name": "stdout",
     "output_type": "stream",
     "text": [
      "There are 5 attributes in the data which are: ['id', 'first_name', 'last_name', 'account_number', 'email\\n']\n"
     ]
    }
   ],
   "source": [
    "print(\"There are {att} attributes in the data which are: {cols}\".format(att=len(data[0]),cols=data[0]))"
   ]
  },
  {
   "cell_type": "code",
   "execution_count": 4,
   "metadata": {},
   "outputs": [
    {
     "name": "stdout",
     "output_type": "stream",
     "text": [
      "There are 1008 records in the file but the last id in the file is 1000\n"
     ]
    }
   ],
   "source": [
    "print(\"There are {l} records in the file but the last id in the file is {lastid}\".format(l = len(data),lastid = data[-1][0]))"
   ]
  },
  {
   "cell_type": "code",
   "execution_count": 5,
   "metadata": {},
   "outputs": [
    {
     "name": "stdout",
     "output_type": "stream",
     "text": [
      "Find the lines that are messed up and search the pattern in them\n"
     ]
    }
   ],
   "source": [
    "print(\"Find the lines that are messed up and search the pattern in them\")"
   ]
  },
  {
   "cell_type": "code",
   "execution_count": 6,
   "metadata": {},
   "outputs": [
    {
     "name": "stdout",
     "output_type": "stream",
     "text": [
      "line number 29\n",
      "['29', 'Adena', 'Hobbs\\n']\n",
      "line number 30\n",
      "['Bosley', '656184\\n']\n",
      "line number 31\n",
      "['', 'ac.ipsum.Phasellus@ut.net\\n']\n",
      "line number 84\n",
      "['82', 'Jade', 'Battle\\n']\n",
      "line number 85\n",
      "['     ', '531695', 'lectus.justo@lorem.co.uk\\n']\n",
      "line number 220\n",
      "['217', 'Boris\\n']\n",
      "line number 221\n",
      "['Harrington', 'Harrington', '325378', 'neque.Nullam.ut@laoreetlectus.edu\\n']\n",
      "line number 341\n",
      "['337', 'NEHRU', 'MENDOZA', '  859105\\n']\n",
      "line number 342\n",
      "['', 'porttitor.interdum.Sed@Loremipsum.co.uk\\n']\n",
      "line number 780\n",
      "['775', '\\n']\n",
      "line number 781\n",
      "['Barbara', 'Hurley', '691210', 'enim.Mauris.quis@magna.net\\n']\n",
      "line number 991\n",
      "['985', 'Cherokee', 'Indian\\n']\n",
      "line number 992\n",
      "['', '157172', 'enim@disparturient.edu\\n']\n"
     ]
    }
   ],
   "source": [
    "line_num = 0\n",
    "for record in data:\n",
    "    if len(record)!=5:\n",
    "        print(\"line number\",line_num)\n",
    "        print(record)\n",
    "    line_num = line_num+1   "
   ]
  },
  {
   "cell_type": "code",
   "execution_count": 7,
   "metadata": {},
   "outputs": [
    {
     "name": "stdout",
     "output_type": "stream",
     "text": [
      "There is a misalignment in those 16 lines\n"
     ]
    }
   ],
   "source": [
    "print(\"There is a misalignment in those 16 lines\")"
   ]
  },
  {
   "cell_type": "code",
   "execution_count": 8,
   "metadata": {},
   "outputs": [
    {
     "name": "stdout",
     "output_type": "stream",
     "text": [
      "29 ['29', 'Adena', 'Hobbs\\n']\n",
      "30 ['Bosley', '656184\\n']\n",
      "31 ['', 'ac.ipsum.Phasellus@ut.net\\n']\n",
      "32 ['30', 'Laura', 'Rivera', '270464', 'nascetur.ridiculus.mus@Donecnibhenim.org\\n']\n",
      "['29', 'Adena', 'Hobbs', 'Bosley', '656184']\n",
      "['29', 'Adena', 'Hobbs', 'Bosley', '656184', 'ac.ipsum.Phasellus@ut.net']\n",
      "Skipped line number 29 32\n",
      "84 ['82', 'Jade', 'Battle\\n']\n",
      "85 ['     ', '531695', 'lectus.justo@lorem.co.uk\\n']\n",
      "86 ['83', 'Nevada', 'black', '504965', 'enim.condimentum@a.net\\n']\n",
      "['82', 'Jade', 'Battle', '531695', 'lectus.justo@lorem.co.uk']\n",
      "Skipped line number 84 86\n",
      "220 ['217', 'Boris\\n']\n",
      "221 ['Harrington', 'Harrington', '325378', 'neque.Nullam.ut@laoreetlectus.edu\\n']\n",
      "222 ['218', 'Ifeoma', 'Whitney', '543699 ', 'Proin.nisl.sem@odiovelest.edu\\n']\n",
      "['217', 'Boris', 'Harrington', 'Harrington', '325378', 'neque.Nullam.ut@laoreetlectus.edu']\n",
      "Skipped line number 220 222\n",
      "341 ['337', 'NEHRU', 'MENDOZA', '  859105\\n']\n",
      "342 ['', 'porttitor.interdum.Sed@Loremipsum.co.uk\\n']\n",
      "343 ['338', 'Kerry', 'Cortez', '936316', 'nulla.Integer.urna@amet.edu\\n']\n",
      "['337', 'NEHRU', 'MENDOZA', '  859105', 'porttitor.interdum.Sed@Loremipsum.co.uk']\n",
      "Skipped line number 341 343\n",
      "780 ['775', '\\n']\n",
      "781 ['Barbara', 'Hurley', '691210', 'enim.Mauris.quis@magna.net\\n']\n",
      "782 ['776', 'Sigourney', 'Richmond', '327527', 'metus@Cras.edu\\n']\n",
      "['775', 'Barbara', 'Hurley', '691210', 'enim.Mauris.quis@magna.net']\n",
      "Skipped line number 780 782\n",
      "991 ['985', 'Cherokee', 'Indian\\n']\n",
      "992 ['', '157172', 'enim@disparturient.edu\\n']\n",
      "993 ['986', 'Tanya', 'Howard', '295481', 'Donec.consectetuer.mauris@venenatislacus.co.uk\\n']\n",
      "['985', 'Cherokee', 'Indian', '157172', 'enim@disparturient.edu']\n",
      "Skipped line number 991 993\n"
     ]
    }
   ],
   "source": [
    "clean_data = []\n",
    "reading_data = True\n",
    "line_number = 0\n",
    "while reading_data:\n",
    "    #print(line_number)\n",
    "    record = data[line_number]\n",
    "    line_number = line_number+1\n",
    "    if len(record)==5:\n",
    "        \"\"\"\"\"\"\"\"\"\"\n",
    "        data already in correct format? -> add it to the list\n",
    "        \"\"\"\"\"\"\"\"\"\"\n",
    "        clean_data.append([x.split(\"\\n\")[0] for x in record])\n",
    "    else:\n",
    "        \"\"\"\"\"\"\"\"\"\"\"\n",
    "        record is not aligned properly->\n",
    "        1. read the next lines/nex records. Only stop when the record is in correct format \n",
    "        [val_1,val_2,val_3,val_4,val_5]\n",
    "        2. join all the records that format is not correct \n",
    "        \"\"\"\"\"\"\"\"\"\"\"\n",
    "        print(line_number-1,record)\n",
    "        found_record_w_correct_format = False\n",
    "        psudo_line_number = line_number\n",
    "        while not found_record_w_correct_format:\n",
    "            psudo_record = data[psudo_line_number]\n",
    "            psudo_line_number = psudo_line_number +1\n",
    "            print(psudo_line_number-1,psudo_record)\n",
    "            if len(psudo_record)==5:\n",
    "                psudo_line_number = psudo_line_number -1\n",
    "                found_record_w_correct_format = True\n",
    "        fixed_record = [x.split(\"\\n\")[0] for x in record if x.strip()!='']\n",
    "        for bad_line in range(line_number,psudo_line_number):\n",
    "            fixed_record = fixed_record + [x.split(\"\\n\")[0] for x in data[bad_line] if x.strip()!='']\n",
    "            print(fixed_record)\n",
    "        print(\"Skipped line number\",line_number-1,psudo_line_number)\n",
    "        clean_data.append(fixed_record)\n",
    "        line_number = psudo_line_number\n",
    "        \n",
    "    if record[0]==data[-1][0]: \n",
    "        reading_data=False"
   ]
  },
  {
   "cell_type": "code",
   "execution_count": 9,
   "metadata": {},
   "outputs": [
    {
     "name": "stdout",
     "output_type": "stream",
     "text": [
      "Check if any record list has more than 5 values\n",
      "['29', 'Adena', 'Hobbs', 'Bosley', '656184', 'ac.ipsum.Phasellus@ut.net']\n",
      "['217', 'Boris', 'Harrington', 'Harrington', '325378', 'neque.Nullam.ut@laoreetlectus.edu']\n"
     ]
    }
   ],
   "source": [
    "print(\"Check if any record list has more than 5 values\")\n",
    "for record in clean_data:\n",
    "    if len(record)!=5:\n",
    "        print(record)"
   ]
  },
  {
   "cell_type": "code",
   "execution_count": 10,
   "metadata": {},
   "outputs": [
    {
     "name": "stdout",
     "output_type": "stream",
     "text": [
      "Fix those records manually\n"
     ]
    }
   ],
   "source": [
    "print(\"Fix those records manually\")\n",
    "\"\"\"\"\"\"\"\"\"\"\"\n",
    "Reason that I fix manually these records is because they cleary need a feedback from human and machine cannot decide \n",
    "how to treat those records. More a algorithm w human guided approach.\n",
    "\"\"\"\"\"\"\"\"\"\"\"\n",
    "clean_data[29] = ['29', 'Adena', 'Hobbs Bosley', '656184', 'ac.ipsum.Phasellus@ut.net']\n",
    "clean_data[217] = ['217', 'Boris', 'Harrington', '325378', 'neque.Nullam.ut@laoreetlectus.edu']"
   ]
  },
  {
   "cell_type": "code",
   "execution_count": 11,
   "metadata": {},
   "outputs": [
    {
     "name": "stdout",
     "output_type": "stream",
     "text": [
      "Write to a file\n"
     ]
    }
   ],
   "source": [
    "print('Write to a file')\n",
    "df = pd.DataFrame(clean_data[1:],columns=clean_data[0])\n",
    "\n",
    "df.to_csv('../data/clean_data.tsv',sep='\\t',encoding='utf-8',index=False)"
   ]
  },
  {
   "cell_type": "code",
   "execution_count": null,
   "metadata": {},
   "outputs": [],
   "source": []
  }
 ],
 "metadata": {
  "kernelspec": {
   "display_name": "Python 3",
   "language": "python",
   "name": "python3"
  },
  "language_info": {
   "codemirror_mode": {
    "name": "ipython",
    "version": 3
   },
   "file_extension": ".py",
   "mimetype": "text/x-python",
   "name": "python",
   "nbconvert_exporter": "python",
   "pygments_lexer": "ipython3",
   "version": "3.6.5"
  }
 },
 "nbformat": 4,
 "nbformat_minor": 2
}
